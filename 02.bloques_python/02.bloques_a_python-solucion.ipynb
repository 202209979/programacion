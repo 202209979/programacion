{
 "cells": [
  {
   "cell_type": "markdown",
   "metadata": {},
   "source": [
    "# Práctica 02. De la programación de bloques a Python (Tema 3)\n",
    "## Solución "
   ]
  },
  {
   "cell_type": "markdown",
   "metadata": {},
   "source": [
    "**Programación**: convertir los programas realizados en Scratch al lenguaje de programación Python. Se tomará como punto de partida, la solución propuesta por el profesor."
   ]
  },
  {
   "cell_type": "markdown",
   "metadata": {},
   "source": [
    "### Programa #1: Programación imperativa básica\n",
    "**Secuencializar o agrupar tareas manuales para que sean ejecutadas en un orden concreto**\n",
    "- Al hacer clic en la bandera verde...\n",
    "- El gato debe decir \"Hola\" durante 1 segundo.\n",
    "- A continuación se va hacer grande fijando su tamaño a 200%.\n",
    "- Esperaremos 1 segundo.\n",
    "- Ocultaremos el gato.\n",
    "- Esperaremos 1 segundo.\n",
    "- Mostraremos el gato.\n",
    "- Lo dejaremos en su tamaño original, 100%.\n",
    "- Dirá (de forma pensativa) \"Uy, ¿qué ha pasado?\" durante 1 segundo."
   ]
  },
  {
   "cell_type": "markdown",
   "metadata": {},
   "source": [
    "#### Solución"
   ]
  },
  {
   "cell_type": "code",
   "execution_count": 2,
   "metadata": {},
   "outputs": [
    {
     "name": "stdout",
     "output_type": "stream",
     "text": [
      "*: ¡Hola!\n",
      "**\n",
      "(escondido)\n",
      "**\n",
      "*\n",
      "*: Uy, ¿qué ha pasado?\n"
     ]
    }
   ],
   "source": [
    "import time\n",
    "print(\"*: ¡Hola!\")\n",
    "print(\"**\")\n",
    "time.sleep(1)\n",
    "print(\"(escondido)\")\n",
    "time.sleep(1)\n",
    "print(\"**\")\n",
    "print(\"*\")\n",
    "print(\"*: Uy, ¿qué ha pasado?\")"
   ]
  },
  {
   "cell_type": "markdown",
   "metadata": {},
   "source": [
    "### Programa #2: Condicionales\n",
    "**Generar distintas salidas en función de la información de entrada**\n",
    "- Al hacer clic en la bandera verde...\n",
    "- El gato debe decir \"¡Hola, soy el gato IA!\" durante 1 segundo.\n",
    "- Preguntará \"Dime una palabra en español y la traduciré al inglés\"\n",
    "- Se evaluará la palabrá introducida (almacenada en la variable respuesta). Si su contenido es igual a Hola:\n",
    "   + El gato debe decir \"Hola se dice en inglés: hello\" durante 2 segundo.\n",
    "- Si no...\n",
    "   + El gato debe decir \"¡Vaya! Ahí me has pillado\" durante 2 segundo."
   ]
  },
  {
   "cell_type": "markdown",
   "metadata": {},
   "source": [
    "#### Solución\n",
    "Es importante que para poder resolver un problema de forma generalista, se parta de un problema particular."
   ]
  },
  {
   "cell_type": "code",
   "execution_count": 3,
   "metadata": {},
   "outputs": [
    {
     "name": "stdout",
     "output_type": "stream",
     "text": [
      "¡Hola, soy el gato IA!\n",
      "Dime una palabra en español y la traduciré al inglés: Hola\n",
      "Hola se dice en inglés: hello\n"
     ]
    }
   ],
   "source": [
    "print(\"¡Hola, soy el gato IA!\")\n",
    "palabra = input(\"Dime una palabra en español y la traduciré al inglés: \")\n",
    "if palabra == \"Hola\":\n",
    "    print(\"Hola se dice en inglés: hello\")\n",
    "else:\n",
    "    print(\"¡Vaya! Ahí me has pillado\")"
   ]
  },
  {
   "cell_type": "markdown",
   "metadata": {},
   "source": [
    "### Programa #3: Condicionales anidados\n",
    "**Generar distintas salidas en función de la información de entrada - Avanzado**\n",
    "\n",
    "Se creará un sistema inteligente basado en reglas:\n",
    "- Al hacer clic en la bandera verde...\n",
    "- Preguntará \"¿Qué temperatura hace hoy?\"\n",
    "- Si la temperatura es inferior a 0 grados el gato dirá: \"Hace mucho, pero que mucho frío\" durante 2 segundos.\n",
    "- Si la temperatura está entre [0, 9] el gato dirá: \"Hace frio, pero se puede soportar\" durante 2 segundos.\n",
    "- Si la temperatura está entre [10, 19] el gato dirá: \"La temperatura es agradable\" durante 2 segundos.\n",
    "- Si la temperatura está entre [20, 29] el gato dirá: \"Empieza el calorcito\" durante 2 segundos.\n",
    "- Si la temperatura es superior a 30 grados el gato dirá: \"Hace mucho, pero mucho calor\" durante 2 segundos."
   ]
  },
  {
   "cell_type": "markdown",
   "metadata": {},
   "source": [
    "#### Solución\n",
    "Para simplificar, la temperatura se asignará directamente en el programa."
   ]
  },
  {
   "cell_type": "code",
   "execution_count": 4,
   "metadata": {},
   "outputs": [
    {
     "name": "stdout",
     "output_type": "stream",
     "text": [
      "Hace mucho, pero que mucho frío\n"
     ]
    }
   ],
   "source": [
    "temperatura = -10\n",
    "if temperatura < 0:\n",
    "    print (\"Hace mucho, pero que mucho frío\")\n",
    "else:\n",
    "    if temperatura < 10:\n",
    "        print (\"Hace frio, pero se puede soportar\")\n",
    "    else:\n",
    "        if temperatura < 20:\n",
    "            print (\"La temperatura es agradable\")\n",
    "        else:\n",
    "            if temperatura < 30:\n",
    "                print (\"Empieza el calorcito\")\n",
    "            else: \n",
    "                print (\"Hace mucho, pero mucho calor\")"
   ]
  },
  {
   "cell_type": "markdown",
   "metadata": {},
   "source": [
    "#### Solución\n",
    "También se podrían utilizar una estructuras muy utilizadas en programación como son los elseif o elif."
   ]
  },
  {
   "cell_type": "code",
   "execution_count": 6,
   "metadata": {},
   "outputs": [
    {
     "name": "stdout",
     "output_type": "stream",
     "text": [
      "Hace mucho, pero que mucho frío\n"
     ]
    }
   ],
   "source": [
    "temperatura = -10\n",
    "if temperatura < 0:\n",
    "    print (\"Hace mucho, pero que mucho frío\")\n",
    "elif temperatura < 10:\n",
    "    print (\"Hace frio, pero se puede soportar\")\n",
    "elif temperatura < 20:\n",
    "    print (\"La temperatura es agradable\")\n",
    "elif temperatura < 30:\n",
    "    print (\"Empieza el calorcito\")\n",
    "else: \n",
    "    print (\"Hace mucho, pero mucho calor\")"
   ]
  },
  {
   "cell_type": "markdown",
   "metadata": {},
   "source": [
    "### Programa #4: Bucles\n",
    "**Automatizar y optimizar la repetición de una serie de tareas**\n",
    "\n",
    "Se creará un programa, similar al desarrollado en Scratch, en el cuál se diga en primer lugar \"¡Hola!\", a continuación se mostrará un \"\\*\" por cada paso hasta dar 8 y se mostrárá el texto \"¡Llegué!\". Se mostrará el texto \"Volviendo\" y de vuelta se mostrará un \"-\" por cada paso de vuelta. Al finalizar se mostrará el texto \"¡Volví!\".\n",
    "\n",
    "Algo como lo siguiente:\n",
    "```\n",
    "¡Hola!********¡Llegué! Volviendo --------¡Volví!\n",
    "```"
   ]
  },
  {
   "cell_type": "markdown",
   "metadata": {},
   "source": [
    "#### Solución\n",
    "Se puede partir de este programa manual..."
   ]
  },
  {
   "cell_type": "code",
   "execution_count": 3,
   "metadata": {},
   "outputs": [
    {
     "name": "stdout",
     "output_type": "stream",
     "text": [
      "¡Hola!\n",
      "*\n",
      "*\n",
      "*\n",
      "*\n",
      "*\n",
      "*\n",
      "*\n",
      "*\n",
      "¡Llegué! Volviendo \n",
      "-\n",
      "-\n",
      "-\n",
      "-\n",
      "-\n",
      "-\n",
      "-\n",
      "-\n",
      "¡Volví!\n"
     ]
    }
   ],
   "source": [
    "import time\n",
    "print(\"¡Hola!\")\n",
    "time.sleep(1)\n",
    "print(\"*\")\n",
    "time.sleep(0.3)\n",
    "print(\"*\")\n",
    "time.sleep(0.3)\n",
    "print(\"*\")\n",
    "time.sleep(0.3)\n",
    "print(\"*\")\n",
    "time.sleep(0.3)\n",
    "print(\"*\")\n",
    "time.sleep(0.3)\n",
    "print(\"*\")\n",
    "time.sleep(0.3)\n",
    "print(\"*\")\n",
    "time.sleep(0.3)\n",
    "print(\"*\")\n",
    "time.sleep(0.3)\n",
    "print(\"¡Llegué! Volviendo \")\n",
    "time.sleep(1)\n",
    "print(\"-\")\n",
    "time.sleep(0.3)\n",
    "print(\"-\")\n",
    "time.sleep(0.3)\n",
    "print(\"-\")\n",
    "time.sleep(0.3)\n",
    "print(\"-\")\n",
    "time.sleep(0.3)\n",
    "print(\"-\")\n",
    "time.sleep(0.3)\n",
    "print(\"-\")\n",
    "time.sleep(0.3)\n",
    "print(\"-\")\n",
    "time.sleep(0.3)\n",
    "print(\"-\")\n",
    "time.sleep(0.3)\n",
    "print(\"¡Volví!\")"
   ]
  },
  {
   "cell_type": "markdown",
   "metadata": {},
   "source": [
    "Y automatizarlo hasta llegar a este otro 100% escalable. Puede crecer todo lo que queramos."
   ]
  },
  {
   "cell_type": "code",
   "execution_count": 7,
   "metadata": {},
   "outputs": [
    {
     "name": "stdout",
     "output_type": "stream",
     "text": [
      "¡Hola!\n",
      "*\n",
      "*\n",
      "*\n",
      "*\n",
      "*\n",
      "*\n",
      "*\n",
      "*\n",
      "¡Llegué! Volviendo \n",
      "-\n",
      "-\n",
      "-\n",
      "-\n",
      "-\n",
      "-\n",
      "-\n",
      "-\n",
      "¡Volví!\n"
     ]
    }
   ],
   "source": [
    "import time\n",
    "\n",
    "numero_pasos = 8\n",
    "tiempo_espera = 0.3\n",
    "\n",
    "print(\"¡Hola!\")\n",
    "time.sleep(1)\n",
    "\n",
    "contador = 0\n",
    "while contador < numero_pasos:\n",
    "    print(\"*\")\n",
    "    contador = contador + 1\n",
    "    time.sleep(tiempo_espera)\n",
    "\n",
    "print(\"¡Llegué! Volviendo \")\n",
    "\n",
    "contador = 0\n",
    "while contador < numero_pasos:\n",
    "    print(\"-\")\n",
    "    contador = contador + 1\n",
    "    time.sleep(tiempo_espera)\n",
    "print(\"¡Volví!\")"
   ]
  },
  {
   "cell_type": "code",
   "execution_count": 9,
   "metadata": {},
   "outputs": [
    {
     "name": "stdout",
     "output_type": "stream",
     "text": [
      "¡Hola!\n",
      "*\n",
      "*\n",
      "*\n",
      "*\n",
      "*\n",
      "*\n",
      "*\n",
      "*\n",
      "*\n",
      "¡Llegué! Volviendo \n",
      "-\n",
      "-\n",
      "-\n",
      "-\n",
      "-\n",
      "-\n",
      "-\n",
      "¡Volví!\n"
     ]
    }
   ],
   "source": [
    "import time\n",
    "\n",
    "numero_pasos = 8\n",
    "tiempo_espera = 0.3\n",
    "\n",
    "print(\"¡Hola!\")\n",
    "time.sleep(1)\n",
    "movimientos = 1\n",
    "pasos = \"*\"\n",
    "contador = 0\n",
    "while contador < numero_pasos * 2:\n",
    "    if contador == numero_pasos+1:\n",
    "        print(\"¡Llegué! Volviendo \")\n",
    "        pasos = \"-\"\n",
    "    print(pasos)\n",
    "    contador = contador + 1\n",
    "    time.sleep(tiempo_espera)\n",
    "print(\"¡Volví!\")"
   ]
  },
  {
   "cell_type": "code",
   "execution_count": null,
   "metadata": {},
   "outputs": [],
   "source": []
  }
 ],
 "metadata": {
  "kernelspec": {
   "display_name": "Python 3 (ipykernel)",
   "language": "python",
   "name": "python3"
  },
  "language_info": {
   "codemirror_mode": {
    "name": "ipython",
    "version": 3
   },
   "file_extension": ".py",
   "mimetype": "text/x-python",
   "name": "python",
   "nbconvert_exporter": "python",
   "pygments_lexer": "ipython3",
   "version": "3.9.12"
  },
  "vscode": {
   "interpreter": {
    "hash": "03f549537fa19b43efbf5aa4d6467b94388b966112c368cc66a2484d89a4a6bd"
   }
  }
 },
 "nbformat": 4,
 "nbformat_minor": 4
}
